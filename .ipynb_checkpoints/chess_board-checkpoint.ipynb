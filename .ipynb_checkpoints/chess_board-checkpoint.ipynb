{
 "cells": [
  {
   "cell_type": "code",
   "execution_count": 23,
   "metadata": {},
   "outputs": [],
   "source": []
  },
  {
   "cell_type": "code",
   "execution_count": 23,
   "metadata": {
    "tags": []
   },
   "outputs": [],
   "source": [
    "import numpy as np \n",
    "import matplotlib.pyplot as plt\n",
    "\n",
    "\n",
    "class ChessBoard :\n",
    "    def __init__(self) :\n",
    "        self.grid = np.zeros((8,8,3))\n",
    "        self.red_x = None\n",
    "        self.red_y = None\n",
    "        self.blue_x = None\n",
    "        self.blue_y = None\n",
    "\n",
    "\n",
    "    \n",
    "    def render(self):\n",
    "        self.grid = np.zeros((8,8,3))\n",
    "        for i in range(0,8,2):\n",
    "            self.grid[i,0:8:2] = (1,1,1)\n",
    "            self.grid[i+1,1:8:2]=(1,1,1)\n",
    "        if self.red_x !=None or self.red_y !=None:\n",
    "            self.grid[self.red_x,self.red_y] = (1,0.2,0)\n",
    "        if self.blue_x !=None or self.blue_y !=None:\n",
    "            self.grid[self.blue_x, self.blue_y]=(.1,.1,1)\n",
    "            \n",
    "        plt.imshow(self.grid)  \n",
    "        \n",
    "        \n",
    "    def add_red(self , x ,y ) :\n",
    "        self.red_x = x\n",
    "        self.red_y = y\n",
    "        self.grid[self.red_x,self.red_y] = (1,0,0)\n",
    "        \n",
    "    def add_blue(self , x ,y ) :\n",
    "        self.blue_x = x\n",
    "        self.blue_y = y\n",
    "        self.grid[self.blue_x,self.blue_y] = (0,0,1)\n",
    "\n",
    "        \n",
    "    def is_under_attack ( self ) : \n",
    "        x_axes = abs(self.red_x - self.blue_x)\n",
    "        y_axes = abs(self.red_y - self.blue_y)\n",
    "        if x_axes == 0 or y_axes == 0 or x_axes == y_axes  :\n",
    "            return True\n",
    "        else : \n",
    "            return False \n",
    "    \n"
   ]
  },
  {
   "cell_type": "code",
   "execution_count": 26,
   "metadata": {},
   "outputs": [
    {
     "name": "stdout",
     "output_type": "stream",
     "text": [
      "pass the test \n"
     ]
    },
    {
     "data": {
      "image/png": "[encoded data removed]",
      "text/plain": [
       "<Figure size 432x288 with 1 Axes>"
      ]
     },
     "metadata": {
      "needs_background": "light"
     },
     "output_type": "display_data"
    }
   ],
   "source": [
    "chess = ChessBoard ()\n",
    "chess.add_red(1,2)\n",
    "chess.add_blue(1,4)\n",
    "chess.render()\n",
    "chess.is_under_attack()\n",
    "actual= chess.is_under_attack()\n",
    "assert actual == True\n",
    "print('pass the test ')\n"
   ]
  },
  {
   "cell_type": "code",
   "execution_count": 27,
   "metadata": {},
   "outputs": [
    {
     "name": "stdout",
     "output_type": "stream",
     "text": [
      "pass the test \n"
     ]
    },
    {
     "data": {
      "image/png": "[encoded data removed]",
      "text/plain": [
       "<Figure size 432x288 with 1 Axes>"
      ]
     },
     "metadata": {
      "needs_background": "light"
     },
     "output_type": "display_data"
    }
   ],
   "source": [
    "chess = ChessBoard ()\n",
    "chess.add_red(6,4)\n",
    "chess.add_blue(1,4)\n",
    "chess.render()\n",
    "chess.is_under_attack()\n",
    "actual= chess.is_under_attack()\n",
    "assert actual == True\n",
    "print('pass the test ')\n"
   ]
  },
  {
   "cell_type": "code",
   "execution_count": 28,
   "metadata": {},
   "outputs": [
    {
     "name": "stdout",
     "output_type": "stream",
     "text": [
      "pass the test \n"
     ]
    },
    {
     "data": {
      "image/png": "[encoded data removed]",
      "text/plain": [
       "<Figure size 432x288 with 1 Axes>"
      ]
     },
     "metadata": {
      "needs_background": "light"
     },
     "output_type": "display_data"
    }
   ],
   "source": [
    "chess = ChessBoard ()\n",
    "chess.add_red(1,1)\n",
    "chess.add_blue(6,6)\n",
    "chess.render()\n",
    "chess.is_under_attack()\n",
    "actual= chess.is_under_attack()\n",
    "assert actual == True\n",
    "print('pass the test ')\n"
   ]
  },
  {
   "cell_type": "code",
   "execution_count": 29,
   "metadata": {},
   "outputs": [
    {
     "name": "stdout",
     "output_type": "stream",
     "text": [
      "pass the test \n"
     ]
    },
    {
     "data": {
      "image/png": "[encoded data removed]",
      "text/plain": [
       "<Figure size 432x288 with 1 Axes>"
      ]
     },
     "metadata": {
      "needs_background": "light"
     },
     "output_type": "display_data"
    }
   ],
   "source": [
    "chess = ChessBoard ()\n",
    "chess.add_red(1,1)\n",
    "chess.add_blue(5,3)\n",
    "chess.render()\n",
    "chess.is_under_attack()\n",
    "actual= chess.is_under_attack()\n",
    "assert actual == False\n",
    "print('pass the test ')\n"
   ]
  },
  {
   "cell_type": "code",
   "execution_count": null,
   "metadata": {},
   "outputs": [],
   "source": []
  }
 ],
 "metadata": {
  "kernelspec": {
   "display_name": "Python 3.8.5 64-bit",
   "language": "python",
   "name": "python38564bit505071258447479d98b5ffa23c50552e"
  },
  "language_info": {
   "codemirror_mode": {
    "name": "ipython",
    "version": 3
   },
   "file_extension": ".py",
   "mimetype": "text/x-python",
   "name": "python",
   "nbconvert_exporter": "python",
   "pygments_lexer": "ipython3",
   "version": "3.8.5"
  }
 },
 "nbformat": 4,
 "nbformat_minor": 4
}
